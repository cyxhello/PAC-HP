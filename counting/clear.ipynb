{
 "cells": [
  {
   "cell_type": "code",
   "execution_count": null,
   "metadata": {},
   "outputs": [],
   "source": [
    "import os.path\n",
    "from PIL import Image\n",
    "import sys\n",
    "# import torchvision.transforms as transforms\n",
    "import json\n",
    "import cv2\n",
    "import numpy as np\n",
    "import random\n",
    "\n",
    "candidate = os.listdir('single/')\n",
    "image_files = os.listdir('dataset_train/density/')\n",
    "count = []\n",
    "for file in image_files:\n",
    "    img = cv2.imread('dataset_train/images/' + file)\n",
    "    # print(file)\n",
    "    # img = cv2.resize(img, (1024, 1024))\n",
    "    data = {}\n",
    "    roilist = []\n",
    "    nums = random.randint(2, 90)\n",
    "    count.append(nums)\n",
    "    px = random.sample(range(24, 976), nums)\n",
    "    py = random.sample(range(24, 976), nums)\n",
    "    obj_list = random.sample(candidate, nums)\n",
    "    \n",
    "    for i in range(nums):\n",
    "        item = {}\n",
    "        path = {}\n",
    "        path['x'] = [px[i]]\n",
    "        path['y'] = [py[i]]\n",
    "        item['path'] = path\n",
    "        roilist.append(item)\n",
    "        obj = cv2.imread('single/' + obj_list[i])\n",
    "        obj = cv2.resize(obj, (21, 21))\n",
    "        mask = 255 * np.ones(obj.shape, obj.dtype)\n",
    "        # print(px[i], py[i], file)\n",
    "        img = cv2.seamlessClone(obj, img, mask, (px[i], py[i]), cv2.MIXED_CLONE)\n",
    "        \n",
    "    data['roilist'] = roilist\n",
    "    json_file = 'dataset_train/images/' + file.replace('.png', '.json')\n",
    "    # with open(json_file, 'w') as wf:\n",
    "    #     json.dump(data, wf)\n",
    "    # cv2.imwrite('patch_43/images/' + file, img)\n"
   ]
  },
  {
   "cell_type": "code",
   "execution_count": null,
   "metadata": {},
   "outputs": [],
   "source": [
    "# coding:utf-8\n",
    "import cv2\n",
    "import numpy as np\n",
    "import matplotlib.pyplot as plt\n",
    "\n",
    "# im = cv2.imread(\"white.png\")\n",
    "# plt.imshow(im)\n",
    "# plt.show()\n",
    "obj = cv2.imread(\"59.png\")\n",
    "\n",
    "# Create an all white mask\n",
    "mask = 255 * np.ones(obj.shape, obj.dtype)\n",
    "im = 255 * np.ones(obj.shape, obj.dtype)\n",
    "\n",
    "\n",
    "# The location of the center of the src in the dst\n",
    "width, height, channels = obj.shape\n",
    "center = (500,500)\n",
    "\n",
    "# Seamlessly clone src into dst and put the results in output\n",
    "# normal_clone = cv2.seamlessClone(obj, im, mask, center, cv2.NORMAL_CLONE)\n",
    "mixed_clone = cv2.seamlessClone(obj, im, mask, center, cv2.MIXED_CLONE)\n",
    "# monochrome_transfer = cv2.seamlessClone(obj, im, mask, center, cv2.MONOCHROME_TRANSFER)\n",
    "\n",
    "# Write results\n",
    "# cv2.imwrite(\"opencv-normal-clone-example.jpg\", normal_clone)\n",
    "cv2.imwrite(\"clear_59.png\", mixed_clone)\n",
    "# cv2.imwrite(\"opencv-monochrome-transfer-example.jpg\", monochrome_transfer)"
   ]
  }
 ],
 "metadata": {
  "kernelspec": {
   "display_name": "Python 3.7.0 64-bit",
   "language": "python",
   "name": "python3"
  },
  "language_info": {
   "name": "python",
   "version": "3.7.0"
  },
  "orig_nbformat": 4,
  "vscode": {
   "interpreter": {
    "hash": "3f24184280146d8523a2449256ad758dec0a28f99857f8756a4d5cf99f55b84e"
   }
  }
 },
 "nbformat": 4,
 "nbformat_minor": 2
}
